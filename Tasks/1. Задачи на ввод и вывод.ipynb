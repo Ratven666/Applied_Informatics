{
 "cells": [
  {
   "cell_type": "markdown",
   "metadata": {},
   "source": [
    "# Функции ввода и вывода "
   ]
  },
  {
   "cell_type": "markdown",
   "metadata": {},
   "source": [
    "## Функция ```help```\n",
    "Самый быстрый способ получить справку попробовать ее вызвать через встроеную функцию ```hellp()```"
   ]
  },
  {
   "cell_type": "code",
   "execution_count": null,
   "metadata": {},
   "outputs": [],
   "source": [
    "help()"
   ]
  },
  {
   "cell_type": "markdown",
   "metadata": {},
   "source": [
    "Функция после вызова запрашивает название обьекта или метода для которого необходима справка.\n",
    "\n",
    "\n",
    "Можно сразу передать в качестве параметра функции имя объекта:\n",
    "\n",
    "```help(int)```"
   ]
  },
  {
   "cell_type": "code",
   "execution_count": null,
   "metadata": {},
   "outputs": [],
   "source": [
    "help(int)"
   ]
  },
  {
   "cell_type": "markdown",
   "metadata": {},
   "source": [
    "> Для любопытных сразу проверим что будет если ...."
   ]
  },
  {
   "cell_type": "code",
   "execution_count": null,
   "metadata": {},
   "outputs": [],
   "source": [
    "help(help)"
   ]
  },
  {
   "cell_type": "markdown",
   "metadata": {},
   "source": [
    "***\n",
    "***\n",
    "## Функция консольного ввода ```input```"
   ]
  },
  {
   "cell_type": "markdown",
   "metadata": {},
   "source": [
    "За ввод в программу данных с клавиатуры в ```Python``` отвечает функция ```input```. \n",
    "\n",
    "Когда вызывается эта функция, программа останавливает свое выполнение и ждет, когда пользователь введет текст. \n",
    "\n",
    "После этого, когда он нажмет ```Enter```, функция ```input()``` заберет введенный текст и передаст его программе, которая уже будет обрабатывать его согласно своим алгоритмам."
   ]
  },
  {
   "cell_type": "code",
   "execution_count": null,
   "metadata": {},
   "outputs": [],
   "source": [
    "input()"
   ]
  },
  {
   "cell_type": "code",
   "execution_count": null,
   "metadata": {},
   "outputs": [],
   "source": [
    "help(input)"
   ]
  },
  {
   "cell_type": "markdown",
   "metadata": {},
   "source": [
    " У функции ```input``` есть опциональный параметр ```prompt```, который является выводимой строкой при вызове функции"
   ]
  },
  {
   "cell_type": "code",
   "execution_count": null,
   "metadata": {},
   "outputs": [],
   "source": [
    "input(\"Введите что-нибудь с клавиатуры: \")"
   ]
  },
  {
   "cell_type": "markdown",
   "metadata": {},
   "source": [
    "> Функция ```input``` всегда возвращает **строковый тип данных ```str```**"
   ]
  },
  {
   "cell_type": "markdown",
   "metadata": {},
   "source": [
    "Для того чтобы считать с клавиатуры число необходимо полученную строку передать в соответствуюзий конструктор:\n",
    "\n",
    "```python\n",
    "line = input(\"Введите число: \")\n",
    "int_number = int(line)\n",
    "float_number = float(line)\n",
    "```\n",
    "\n",
    "Но удобнее объединить такую запись **в одну строку**, поместив функцию ```input``` в соответсвующую ```обертку```:\n",
    "\n",
    "```python\n",
    "int_number = int(input(\"Введите целое число: \"))\n",
    "float_number = float(input(\"Введите вещественное число: \"))\n",
    "```"
   ]
  },
  {
   "cell_type": "code",
   "execution_count": null,
   "metadata": {},
   "outputs": [],
   "source": [
    "int(input(\"Введите целое число: \"))"
   ]
  },
  {
   "cell_type": "code",
   "execution_count": null,
   "metadata": {},
   "outputs": [],
   "source": [
    "float(input(\"Введите вещественное число: \"))"
   ]
  },
  {
   "cell_type": "markdown",
   "metadata": {},
   "source": [
    "> Если введенные данные не могут быть приведены к требуемому типу - появится ошибка и выполнение программы прервется\n",
    "***\n",
    "***"
   ]
  },
  {
   "cell_type": "markdown",
   "metadata": {},
   "source": [
    "***\n",
    "***\n",
    "## Функция консольного вывода ```print```"
   ]
  },
  {
   "cell_type": "markdown",
   "metadata": {},
   "source": [
    "\n",
    "Функция ```print``` ```Python``` выводит заданные объекты **на стандартное устройство вывода (экран) или отправляет их текстовым потоком в файл**.\n",
    "\n",
    "Полный синтаксис функции ```print()```:\n",
    "\n",
    "```python\n",
    "print(*objects, sep=' ', end='n', file=sys.stdout, flush=False)\n",
    "```\n",
    "\n",
    "### Параметры print()\n",
    "\n",
    "* **objects** – объект, который нужно вывести * обозначает, что объектов может быть несколько;\n",
    "* **sep** – разделяет объекты. Значение по умолчанию: ‘ ‘;\n",
    "* **end** – ставится после всех объектов;\n",
    "* **file** – ожидается объект с методом write (string). Если значение не задано, для вывода объектов используется файл sys.stdout;\n",
    "* **flush** – если задано значение True, поток принудительно сбрасывается в файл. Значение по умолчанию: False."
   ]
  },
  {
   "cell_type": "code",
   "execution_count": null,
   "metadata": {},
   "outputs": [],
   "source": [
    "help(print)"
   ]
  },
  {
   "cell_type": "code",
   "execution_count": null,
   "metadata": {},
   "outputs": [],
   "source": [
    "print(\"Hello, World!\")"
   ]
  },
  {
   "cell_type": "markdown",
   "metadata": {},
   "source": [
    "### Необязательный аргумент  ```sep```\n",
    "\n",
    "```sep``` — это может быть строка, которую необходимо вставлять между значениями, **по умолчанию — пробел**.\n"
   ]
  },
  {
   "cell_type": "code",
   "execution_count": null,
   "metadata": {},
   "outputs": [],
   "source": [
    "print(\"различные\", \"строки\", \"передаваемые\", \"параметрами\", \"в\", \"функцию\", \"print()\")"
   ]
  },
  {
   "cell_type": "markdown",
   "metadata": {},
   "source": [
    "Вставим список слов в ```print``` и разделим их с помощью символа новой строки (```\"\\n\"```). \n",
    "\n",
    "> Еще раз: **по умолчанию разделитель добавляет пробел между каждым словом**."
   ]
  },
  {
   "cell_type": "code",
   "execution_count": null,
   "metadata": {},
   "outputs": [],
   "source": [
    "print(\"различные\", \"строки\", \"передаваемые\", \"параметрами\", \"в\", \"функцию\", \"print()\", sep=\"\\n\")"
   ]
  },
  {
   "cell_type": "markdown",
   "metadata": {},
   "source": [
    "### Необязательный аргумент  ```end```\n",
    "\n",
    "```end``` — это строка, **которая добавляется после последнего значения**. \n",
    "\n",
    "> **По умолчанию** — это перенос на новую строку (```\\n```). С помощью аргумента ```end``` программист может самостоятельно определить окончание выражения ```print```."
   ]
  },
  {
   "cell_type": "code",
   "execution_count": null,
   "metadata": {},
   "outputs": [],
   "source": [
    "print(\"различные\", \"строки\", \"передаваемые\")\n",
    "print(\"параметрами\", \"в\", \"функцию\", \"print()\")"
   ]
  },
  {
   "cell_type": "code",
   "execution_count": null,
   "metadata": {},
   "outputs": [],
   "source": [
    "print(\"различные\", \"строки\", \"передаваемые\", end = \" \")  # Последний символ - \" \"\n",
    "print(\"параметрами\", \"в\", \"функцию\", \"print()\")          # Последний символ - перевод строки \"\\n\"\n",
    "print(\"!!!\")                                             # Последний символ - перевод строки \"\\n\""
   ]
  },
  {
   "cell_type": "markdown",
   "metadata": {},
   "source": [
    "### Необязательный аргумент  ```file```\n",
    "\n",
    "\n",
    "```file``` — файлоподобный объект (поток). \n",
    "\n",
    "> По умолчанию — это sys.stdout. \n",
    "\n",
    "Здесь можно указать файл, в который нужно записать или добавить данные из функции ```print```.\n",
    "\n",
    "\n",
    "**Таким образом вывод функции можно сохранять в файлы форматов ```.csv``` или ```.txt```***. \n",
    "\n",
    "Рассмотрим это на примере с перебором всех элементов списка. Он сохраняется в текстовом файле. В первую очередь файл нужно открыть в режиме append. Далее определяется функция, чей вывод будет добавляться внутрь текстового файла."
   ]
  },
  {
   "cell_type": "code",
   "execution_count": null,
   "metadata": {},
   "outputs": [],
   "source": [
    "file = open(\"print.txt\",\"a\")\n",
    "\n",
    "print(\"Hello, World!\", file=file)\n",
    "\n",
    "file.close()"
   ]
  },
  {
   "cell_type": "markdown",
   "metadata": {},
   "source": [
    "> **КРАЙНЕ НЕ СОВЕТУЮ ТАК ДЕЛАТЬ!**"
   ]
  },
  {
   "cell_type": "markdown",
   "metadata": {},
   "source": [
    "### Необязательный аргумент  ```file```\n",
    "\n",
    "```flush``` — определяет, нужно ли принудительно очищать поток. \n",
    "\n",
    "> По умолчанию значение равно ```False```.\n",
    "\n",
    "Как правило, вывод в файл или консоль буферизируется как минимум до тех пор, пока не будет напечатан символ новой строки. \n",
    "\n",
    "Буфер значит, что вывод хранится в определенном регистре до тех пор, пока файл не будет готов к сохранению значения или не окажется закрыт. \n",
    "\n",
    "\n",
    "Задача ```flush``` — убедиться в том что, буферизированный вывод благополучно добрался до точки назначения.\n",
    "\n",
    "***\n",
    "***"
   ]
  },
  {
   "cell_type": "markdown",
   "metadata": {},
   "source": [
    "# Задачи"
   ]
  },
  {
   "cell_type": "markdown",
   "metadata": {},
   "source": [
    "## Задача 1.1\n",
    "Напишите программу, которая выводит на экран текст \"Hello, world!\" без кавычек."
   ]
  },
  {
   "cell_type": "code",
   "execution_count": null,
   "metadata": {},
   "outputs": [],
   "source": []
  },
  {
   "cell_type": "markdown",
   "metadata": {},
   "source": [
    "## Задача 1.2\n",
    "Напишите программу, которая выводит на экран  две строки : “Hello!” и \"World!\" (каждое слово с новой строки!)."
   ]
  },
  {
   "cell_type": "code",
   "execution_count": null,
   "metadata": {},
   "outputs": [],
   "source": []
  },
  {
   "cell_type": "markdown",
   "metadata": {},
   "source": [
    "## Задача 1.3\n",
    "Напишите программу, которая выводит цифру \" 8 \"  с помощью символов \" & \" (\n",
    "```\n",
    "&&&&&&&&&&\n",
    "&        &\n",
    "&        &\n",
    "&        &\n",
    "&&&&&&&&&&\n",
    "&        &\n",
    "&        &\n",
    "&        &\n",
    "&        &\n",
    "&&&&&&&&&&\n",
    "```"
   ]
  },
  {
   "cell_type": "code",
   "execution_count": null,
   "metadata": {},
   "outputs": [],
   "source": []
  },
  {
   "cell_type": "markdown",
   "metadata": {},
   "source": [
    "## Задача 1.4\n",
    "\n",
    "Рассмотрим несколько первых членов последовательности Фибоначчи:\n",
    "\n",
    "```1 1 2 3 5 8 13 21 34```.  \n",
    "\n",
    "\n",
    "Напишите программу, которая выводит данную последовательность чисел с двумя пробелами между ними.\n",
    "Примечание. Текст ```\"1  1  2  3  5  8  13  21  34\"``` **не использовать**. \n",
    "\n",
    "> Воспользуйтесь возможностью команды ```print()``` выводить несколько аргументов, указанных через запятую."
   ]
  },
  {
   "cell_type": "code",
   "execution_count": null,
   "metadata": {},
   "outputs": [],
   "source": []
  },
  {
   "cell_type": "markdown",
   "metadata": {},
   "source": [
    "## Задача 1.5\n",
    "\n",
    "Вызовите справку по строковому типу данных ```str```."
   ]
  },
  {
   "cell_type": "code",
   "execution_count": null,
   "metadata": {},
   "outputs": [],
   "source": []
  },
  {
   "cell_type": "markdown",
   "metadata": {},
   "source": [
    "## Задача 1.6\n",
    "\n",
    "Введите с консоли:\n",
    "* Строку\n",
    "* Целое число\n",
    "* Вещественное число\n",
    "\n",
    "> Напишите сообщения пользователю, чтобы он знал, что вводить!!!"
   ]
  },
  {
   "cell_type": "code",
   "execution_count": null,
   "metadata": {},
   "outputs": [],
   "source": []
  }
 ],
 "metadata": {
  "kernelspec": {
   "display_name": "Python 3",
   "language": "python",
   "name": "python3"
  },
  "language_info": {
   "codemirror_mode": {
    "name": "ipython",
    "version": 3
   },
   "file_extension": ".py",
   "mimetype": "text/x-python",
   "name": "python",
   "nbconvert_exporter": "python",
   "pygments_lexer": "ipython3",
   "version": "3.8.5"
  }
 },
 "nbformat": 4,
 "nbformat_minor": 4
}
